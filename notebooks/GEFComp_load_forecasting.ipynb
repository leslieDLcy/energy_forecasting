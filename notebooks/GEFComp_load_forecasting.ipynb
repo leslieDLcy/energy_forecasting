{
 "cells": [
  {
   "cell_type": "markdown",
   "id": "d5f003fd-cc6b-458d-94af-3e9d72f825e7",
   "metadata": {
    "tags": []
   },
   "source": [
    "# introduction\n",
    "\n",
    "This file tests the **load forecasting** for the [Global Energy Forecasting Competition 2012 - Load Forecasting](https://www.kaggle.com/competitions/global-energy-forecasting-competition-2012-load-forecasting/overview).\n",
    "\n",
    "`Goal`: \n",
    "\n",
    "- backcasting and forecasting hourly loads (in kW) for a US utility with 20 zones, plus an additional system level (sum of the 20 zonal level series), totally 21 series.\n",
    "- to forecast forecast hourly loads from 2008/7/1 to 2008/7/7 where no actual temperatures are given for this week.\n",
    "- to backcast the 8 weeks of missing data.\n",
    "\n",
    "`Note`:\n",
    "\n",
    "- temperature available as one co-variate.\n",
    "- missing data in `load_history.csv` which required to be backcasted.\n",
    "\n",
    "`Data`:\n",
    "\n",
    "- each row represents a day.\n"
   ]
  },
  {
   "cell_type": "code",
   "execution_count": 1,
   "id": "5b742e36-7d35-4dcb-bee0-cb541725f3cd",
   "metadata": {},
   "outputs": [],
   "source": [
    "import pandas as pd\n",
    "import matplotlib.pyplot as plt\n",
    "import numpy as np"
   ]
  },
  {
   "cell_type": "code",
   "execution_count": 2,
   "id": "2d311414-ab57-44f3-847e-0995ba31caf2",
   "metadata": {},
   "outputs": [],
   "source": [
    "from energy_forecasting.modules import *"
   ]
  },
  {
   "cell_type": "code",
   "execution_count": 3,
   "id": "32827cdf-b2b9-42cb-b306-37304738d48b",
   "metadata": {},
   "outputs": [],
   "source": [
    "%load_ext autoreload\n",
    "%autoreload 2"
   ]
  },
  {
   "cell_type": "code",
   "execution_count": 4,
   "id": "a93c2d96-1a37-4457-ae4c-5f5b45355aeb",
   "metadata": {},
   "outputs": [],
   "source": [
    "load = pd.read_csv('../data/raw/GEF2012_load_forecasting/Load_history.csv',  thousands=',')"
   ]
  },
  {
   "cell_type": "code",
   "execution_count": 5,
   "id": "3caf36fd-aafb-41dd-85d7-4bfc3993a5de",
   "metadata": {},
   "outputs": [],
   "source": [
    "load = change_timeindex(load)"
   ]
  },
  {
   "cell_type": "code",
   "execution_count": 6,
   "id": "9d4de579-33c1-4e1f-a8b1-87843a6d386e",
   "metadata": {},
   "outputs": [],
   "source": [
    "# which zone\n",
    "load_zone1 = get_series_by_zone(df=load, identifier='zone_id', id=1)"
   ]
  },
  {
   "cell_type": "code",
   "execution_count": 7,
   "id": "9e66cbc0-80d6-48cd-838f-0610a4c8c5a1",
   "metadata": {},
   "outputs": [
    {
     "data": {
      "text/plain": [
       "2008-07-07 19:00:00   NaN\n",
       "2008-07-07 20:00:00   NaN\n",
       "2008-07-07 21:00:00   NaN\n",
       "2008-07-07 22:00:00   NaN\n",
       "2008-07-07 23:00:00   NaN\n",
       "Freq: H, dtype: float32"
      ]
     },
     "execution_count": 7,
     "metadata": {},
     "output_type": "execute_result"
    }
   ],
   "source": [
    "load_zone1.tail()"
   ]
  },
  {
   "cell_type": "code",
   "execution_count": 8,
   "id": "12d22411-4ea2-41a8-b7d9-fb2606077259",
   "metadata": {},
   "outputs": [
    {
     "data": {
      "text/plain": [
       "39600"
      ]
     },
     "execution_count": 8,
     "metadata": {},
     "output_type": "execute_result"
    }
   ],
   "source": [
    "len(load_zone1)"
   ]
  },
  {
   "cell_type": "code",
   "execution_count": 9,
   "id": "f85a48f2-5ea9-4326-83ad-63625be6f83f",
   "metadata": {},
   "outputs": [],
   "source": [
    "temperature = pd.read_csv('../data/raw/GEF2012_load_forecasting/temperature_history.csv')"
   ]
  },
  {
   "cell_type": "code",
   "execution_count": 10,
   "id": "f21aa485-1c1c-407f-8995-79538e31b2e7",
   "metadata": {},
   "outputs": [],
   "source": [
    "temperature = change_timeindex(temperature)"
   ]
  },
  {
   "cell_type": "code",
   "execution_count": 11,
   "id": "ed0fd6e9-4c22-4179-9b91-fcda81c8c9be",
   "metadata": {},
   "outputs": [],
   "source": [
    "# temperature.head()"
   ]
  },
  {
   "cell_type": "code",
   "execution_count": 12,
   "id": "192faf05-5022-4904-9635-956bd8450846",
   "metadata": {},
   "outputs": [],
   "source": [
    "# which zone\n",
    "temp_zone1 = get_series_by_zone(df=temperature, identifier='station_id', id=1)"
   ]
  },
  {
   "cell_type": "code",
   "execution_count": 13,
   "id": "2aff418d-8d0d-495e-b2e9-ec1f7f1cfa3b",
   "metadata": {},
   "outputs": [
    {
     "data": {
      "text/plain": [
       "39432"
      ]
     },
     "execution_count": 13,
     "metadata": {},
     "output_type": "execute_result"
    }
   ],
   "source": [
    "len(temp_zone1)"
   ]
  },
  {
   "cell_type": "code",
   "execution_count": 14,
   "id": "f5b2774e-926c-4cb8-87ba-b26ae0a384b6",
   "metadata": {},
   "outputs": [
    {
     "data": {
      "text/plain": [
       "Timestamp('2008-06-30 23:00:00')"
      ]
     },
     "execution_count": 14,
     "metadata": {},
     "output_type": "execute_result"
    }
   ],
   "source": [
    "temp_zone1.index[-1]"
   ]
  },
  {
   "cell_type": "code",
   "execution_count": 15,
   "id": "0ccd1efc-5f4c-4e8a-85ff-1a2d114e0287",
   "metadata": {},
   "outputs": [
    {
     "data": {
      "text/plain": [
       "Timestamp('2008-07-07 23:00:00')"
      ]
     },
     "execution_count": 15,
     "metadata": {},
     "output_type": "execute_result"
    }
   ],
   "source": [
    "load_zone1.index[-1]"
   ]
  },
  {
   "cell_type": "code",
   "execution_count": 16,
   "id": "2bb00e89-3de5-4887-994a-4806a2bb8f91",
   "metadata": {},
   "outputs": [],
   "source": [
    "# at least they need to be of same length\n",
    "\n"
   ]
  },
  {
   "cell_type": "code",
   "execution_count": 17,
   "id": "123553f9-14fa-41eb-86ee-acf0afc382d6",
   "metadata": {},
   "outputs": [],
   "source": [
    "tail_timeindex = pd.date_range(start = temp_zone1.index[-1], end = load_zone1.index[-1], freq='H', inclusive='right')"
   ]
  },
  {
   "cell_type": "code",
   "execution_count": 18,
   "id": "364f3e77-ef8a-49b0-ad1e-d25776b4f469",
   "metadata": {},
   "outputs": [
    {
     "data": {
      "text/plain": [
       "DatetimeIndex(['2008-07-01 00:00:00', '2008-07-01 01:00:00',\n",
       "               '2008-07-01 02:00:00', '2008-07-01 03:00:00',\n",
       "               '2008-07-01 04:00:00', '2008-07-01 05:00:00',\n",
       "               '2008-07-01 06:00:00', '2008-07-01 07:00:00',\n",
       "               '2008-07-01 08:00:00', '2008-07-01 09:00:00',\n",
       "               ...\n",
       "               '2008-07-07 14:00:00', '2008-07-07 15:00:00',\n",
       "               '2008-07-07 16:00:00', '2008-07-07 17:00:00',\n",
       "               '2008-07-07 18:00:00', '2008-07-07 19:00:00',\n",
       "               '2008-07-07 20:00:00', '2008-07-07 21:00:00',\n",
       "               '2008-07-07 22:00:00', '2008-07-07 23:00:00'],\n",
       "              dtype='datetime64[ns]', length=168, freq='H')"
      ]
     },
     "execution_count": 18,
     "metadata": {},
     "output_type": "execute_result"
    }
   ],
   "source": [
    "tail_timeindex"
   ]
  },
  {
   "cell_type": "code",
   "execution_count": 19,
   "id": "abf3c83c-8345-4e0f-97d6-a9b137600164",
   "metadata": {},
   "outputs": [
    {
     "data": {
      "text/plain": [
       "168"
      ]
     },
     "execution_count": 19,
     "metadata": {},
     "output_type": "execute_result"
    }
   ],
   "source": [
    "len(tail_timeindex)"
   ]
  },
  {
   "cell_type": "code",
   "execution_count": 20,
   "id": "4180bffb-ede3-4e4d-a72b-c1e4be16e257",
   "metadata": {},
   "outputs": [],
   "source": [
    "tail_series = pd.Series(data = np.nan, index=tail_timeindex)"
   ]
  },
  {
   "cell_type": "code",
   "execution_count": 21,
   "id": "a2a2ae09-1e26-4068-8195-896273ba857f",
   "metadata": {},
   "outputs": [],
   "source": [
    "full_temp_zone1 = pd.concat([temp_zone1, tail_series])"
   ]
  },
  {
   "cell_type": "code",
   "execution_count": 22,
   "id": "bd2ea280-6990-4614-97a6-0a1e6c5e0206",
   "metadata": {},
   "outputs": [
    {
     "data": {
      "text/plain": [
       "39600"
      ]
     },
     "execution_count": 22,
     "metadata": {},
     "output_type": "execute_result"
    }
   ],
   "source": [
    "len(full_temp_zone1)"
   ]
  },
  {
   "cell_type": "code",
   "execution_count": 23,
   "id": "7421e4c2-6f75-46f6-8b28-20de6c2d1ca3",
   "metadata": {},
   "outputs": [],
   "source": [
    "# now that we have training data at hand\n",
    "# temperature_zone_1 --> load_zone_1"
   ]
  },
  {
   "cell_type": "code",
   "execution_count": 24,
   "id": "95f52037-8d25-452b-9a87-ba94582c949f",
   "metadata": {},
   "outputs": [
    {
     "data": {
      "text/plain": [
       "[<matplotlib.lines.Line2D at 0x7fcb310b9210>]"
      ]
     },
     "execution_count": 24,
     "metadata": {},
     "output_type": "execute_result"
    },
    {
     "data": {
      "image/png": "[encoded data removed]",
      "text/plain": [
       "<Figure size 1000x300 with 1 Axes>"
      ]
     },
     "metadata": {},
     "output_type": "display_data"
    }
   ],
   "source": [
    "fig, ax = plt.subplots(figsize=(10, 3))\n",
    "ax.plot(full_temp_zone1)\n",
    "# ax.plot(load_zone1)"
   ]
  },
  {
   "cell_type": "code",
   "execution_count": 25,
   "id": "c4713145-3407-47d1-861f-869edc7b02e9",
   "metadata": {},
   "outputs": [
    {
     "data": {
      "text/plain": [
       "186"
      ]
     },
     "execution_count": 25,
     "metadata": {},
     "output_type": "execute_result"
    }
   ],
   "source": [
    "np.sum(full_temp_zone1.isna())"
   ]
  },
  {
   "cell_type": "code",
   "execution_count": 26,
   "id": "40ac0ba7-176d-4ad7-b1d9-d73aef7836ab",
   "metadata": {},
   "outputs": [
    {
     "data": {
      "text/plain": [
       "1530"
      ]
     },
     "execution_count": 26,
     "metadata": {},
     "output_type": "execute_result"
    }
   ],
   "source": [
    "np.sum(load_zone1.isna())"
   ]
  },
  {
   "cell_type": "code",
   "execution_count": 27,
   "id": "a4ced84f-86b9-4965-bf7d-d44e9436a8d0",
   "metadata": {},
   "outputs": [
    {
     "data": {
      "text/plain": [
       "39600"
      ]
     },
     "execution_count": 27,
     "metadata": {},
     "output_type": "execute_result"
    }
   ],
   "source": [
    "len(full_temp_zone1)"
   ]
  },
  {
   "cell_type": "markdown",
   "id": "207a4148-5ae1-4635-8945-5007c45e80d0",
   "metadata": {
    "jp-MarkdownHeadingCollapsed": true,
    "tags": []
   },
   "source": [
    "## the missing data\n",
    "\n",
    "for now, simply just discard the missing data"
   ]
  },
  {
   "cell_type": "code",
   "execution_count": 28,
   "id": "2bd9b644-ebcb-422b-a1e5-49221312defa",
   "metadata": {},
   "outputs": [],
   "source": [
    "from darts import TimeSeries\n",
    "from darts.dataprocessing.transformers import MissingValuesFiller"
   ]
  },
  {
   "cell_type": "code",
   "execution_count": 29,
   "id": "6eece51a-8cb8-4ccb-b185-4515d3d630c2",
   "metadata": {},
   "outputs": [],
   "source": [
    "filler_load = MissingValuesFiller()"
   ]
  },
  {
   "cell_type": "code",
   "execution_count": 30,
   "id": "7d562462-692e-49c2-b39b-09d80cb3a712",
   "metadata": {},
   "outputs": [],
   "source": [
    "filler_temp = MissingValuesFiller()"
   ]
  },
  {
   "cell_type": "code",
   "execution_count": 31,
   "id": "781b4527-849b-44c9-993e-68d15e242281",
   "metadata": {},
   "outputs": [],
   "source": [
    "load_filled = filler_load.transform(TimeSeries.from_series(load_zone1))"
   ]
  },
  {
   "cell_type": "code",
   "execution_count": 32,
   "id": "c8857ef5-f8d0-4f4a-ac8c-67a89139add1",
   "metadata": {},
   "outputs": [],
   "source": [
    "temp_filled = filler_temp.transform(TimeSeries.from_series(full_temp_zone1))"
   ]
  },
  {
   "cell_type": "code",
   "execution_count": 33,
   "id": "03a02f10-ed5c-41d7-a8fd-b20d3188d826",
   "metadata": {},
   "outputs": [
    {
     "data": {
      "text/plain": [
       "<Axes: xlabel='time'>"
      ]
     },
     "execution_count": 33,
     "metadata": {},
     "output_type": "execute_result"
    },
    {
     "data": {
      "image/png": "[encoded data removed]",
      "text/plain": [
       "<Figure size 1000x300 with 1 Axes>"
      ]
     },
     "metadata": {},
     "output_type": "display_data"
    }
   ],
   "source": [
    "plt.figure(figsize=(10, 3))\n",
    "load_filled.plot()"
   ]
  },
  {
   "cell_type": "markdown",
   "id": "030f1bc4-5777-4be7-95b5-6cc5ff5aebb5",
   "metadata": {
    "tags": []
   },
   "source": [
    "# modelling\n",
    "\n",
    "now that we've finally got the data of `target`: load_filled, `covariate`: temp_filled. Let's model!"
   ]
  },
  {
   "cell_type": "code",
   "execution_count": 34,
   "id": "303766ac-dfa5-47a2-9b15-a29bf035986b",
   "metadata": {},
   "outputs": [],
   "source": [
    "from darts.dataprocessing.transformers import Scaler\n",
    "from darts.models import TFTModel\n",
    "from darts.metrics import mape"
   ]
  },
  {
   "cell_type": "code",
   "execution_count": 35,
   "id": "3be6e2a1-8b61-4d5a-a779-8814d7834d6d",
   "metadata": {},
   "outputs": [],
   "source": [
    "# define train/validation cutoff time\n",
    "forecast_horizon_ice = 48\n",
    "training_cutoff_ice = load_filled.time_index[-(2 * forecast_horizon_ice)]"
   ]
  },
  {
   "cell_type": "code",
   "execution_count": 36,
   "id": "10c5c0a4-5ca9-4a0c-a593-d6512c4f80ed",
   "metadata": {},
   "outputs": [
    {
     "data": {
      "text/plain": [
       "Timestamp('2008-07-04 00:00:00')"
      ]
     },
     "execution_count": 36,
     "metadata": {},
     "output_type": "execute_result"
    }
   ],
   "source": [
    "training_cutoff_ice"
   ]
  },
  {
   "cell_type": "code",
   "execution_count": 37,
   "id": "fe87dc2a-890c-44c5-a7b7-25f8f360680f",
   "metadata": {},
   "outputs": [],
   "source": [
    "# target\n",
    "\n",
    "train_load, val_load = load_filled.split_before(training_cutoff_ice)\n",
    "\n",
    "scaler_load = Scaler()\n",
    "train_load_transformed = scaler_load.fit_transform(train_load)\n",
    "val_load_transformed = scaler_load.transform(val_load)\n",
    "\n",
    "load_all_transformed = scaler_load.transform(load_filled)"
   ]
  },
  {
   "cell_type": "code",
   "execution_count": 38,
   "id": "022f6f1b-369d-463b-9be0-ec406e202710",
   "metadata": {},
   "outputs": [
    {
     "data": {
      "text/plain": [
       "dtype('float32')"
      ]
     },
     "execution_count": 38,
     "metadata": {},
     "output_type": "execute_result"
    }
   ],
   "source": [
    "# check the data type\n",
    "train_load_transformed.dtype"
   ]
  },
  {
   "cell_type": "code",
   "execution_count": 39,
   "id": "5b06e26c-fa2f-41c7-a7f9-2d6a289e7961",
   "metadata": {},
   "outputs": [],
   "source": [
    "# use heater sales as past covariates and transform data\n",
    "\n",
    "cov_temp_train, cov_temp_val = temp_filled.split_before(training_cutoff_ice)\n",
    "\n",
    "scaler_temp = Scaler()\n",
    "scaler_temp.fit(cov_temp_train)\n",
    "\n",
    "covariates_temp_transformed = scaler_temp.transform(temp_filled)\n",
    "covariates_temp_transformed = covariates_temp_transformed.astype('float32')"
   ]
  },
  {
   "cell_type": "code",
   "execution_count": 40,
   "id": "afb3e134-4bbb-4a54-9515-d457a8970565",
   "metadata": {},
   "outputs": [
    {
     "data": {
      "text/plain": [
       "dtype('float32')"
      ]
     },
     "execution_count": 40,
     "metadata": {},
     "output_type": "execute_result"
    }
   ],
   "source": [
    "covariates_temp_transformed.dtype"
   ]
  },
  {
   "cell_type": "code",
   "execution_count": 41,
   "id": "01cca3c8-a19d-4e3b-a25d-0ac46627dbf1",
   "metadata": {},
   "outputs": [],
   "source": [
    "# use the last 3 years as past input data\n",
    "input_chunk_length_ice = 144"
   ]
  },
  {
   "cell_type": "code",
   "execution_count": 42,
   "id": "3a0cbae1-af80-4c8a-9dcd-7042318e410d",
   "metadata": {},
   "outputs": [],
   "source": [
    "# use `add_encoders` as we don't have future covariates\n",
    "my_model_ice = TFTModel(\n",
    "    input_chunk_length=input_chunk_length_ice,\n",
    "    output_chunk_length=forecast_horizon_ice,\n",
    "    hidden_size=16,\n",
    "    lstm_layers=1,\n",
    "    batch_size=32,\n",
    "    n_epochs=100,\n",
    "    dropout=0.1,\n",
    "    add_encoders={\n",
    "        \"cyclic\": {\"future\": [\"month\"]},\n",
    "    \"datetime_attribute\": {\"future\": [\"hour\", \"dayofweek\"]},},\n",
    "    add_relative_index=False,\n",
    "    optimizer_kwargs={\"lr\": 1e-3},\n",
    "    random_state=42,\n",
    ")"
   ]
  },
  {
   "cell_type": "code",
   "execution_count": 43,
   "id": "ddde093c-3f8a-4b9d-b0f4-88028630c775",
   "metadata": {},
   "outputs": [
    {
     "name": "stderr",
     "output_type": "stream",
     "text": [
      "GPU available: False, used: False\n",
      "TPU available: False, using: 0 TPU cores\n",
      "IPU available: False, using: 0 IPUs\n",
      "HPU available: False, using: 0 HPUs\n",
      "\n",
      "   | Name                              | Type                             | Params\n",
      "----------------------------------------------------------------------------------------\n",
      "0  | train_metrics                     | MetricCollection                 | 0     \n",
      "1  | val_metrics                       | MetricCollection                 | 0     \n",
      "2  | input_embeddings                  | _MultiEmbedding                  | 0     \n",
      "3  | static_covariates_vsn             | _VariableSelectionNetwork        | 0     \n",
      "4  | encoder_vsn                       | _VariableSelectionNetwork        | 6.0 K \n",
      "5  | decoder_vsn                       | _VariableSelectionNetwork        | 3.9 K \n",
      "6  | static_context_grn                | _GatedResidualNetwork            | 4.3 K \n",
      "7  | static_context_hidden_encoder_grn | _GatedResidualNetwork            | 4.3 K \n",
      "8  | static_context_cell_encoder_grn   | _GatedResidualNetwork            | 4.3 K \n",
      "9  | static_context_enrichment         | _GatedResidualNetwork            | 4.3 K \n",
      "10 | lstm_encoder                      | LSTM                             | 8.4 K \n",
      "11 | lstm_decoder                      | LSTM                             | 8.4 K \n",
      "12 | post_lstm_gan                     | _GateAddNorm                     | 2.2 K \n",
      "13 | static_enrichment_grn             | _GatedResidualNetwork            | 5.3 K \n",
      "14 | multihead_attn                    | _InterpretableMultiHeadAttention | 2.6 K \n",
      "15 | post_attn_gan                     | _GateAddNorm                     | 2.2 K \n",
      "16 | feed_forward_block                | _GatedResidualNetwork            | 4.3 K \n",
      "17 | pre_output_gan                    | _GateAddNorm                     | 2.2 K \n",
      "18 | output_layer                      | Linear                           | 561   \n",
      "----------------------------------------------------------------------------------------\n",
      "63.2 K    Trainable params\n",
      "0         Non-trainable params\n",
      "63.2 K    Total params\n",
      "0.253     Total estimated model params size (MB)\n"
     ]
    },
    {
     "data": {
      "application/vnd.jupyter.widget-view+json": {
       "model_id": "6cb91cdd84eb4ddbb90ba31ce75dcc9b",
       "version_major": 2,
       "version_minor": 0
      },
      "text/plain": [
       "Training: |                                                                                                   …"
      ]
     },
     "metadata": {},
     "output_type": "display_data"
    },
    {
     "name": "stderr",
     "output_type": "stream",
     "text": [
      "/opt/anaconda3/envs/gpflow/lib/python3.10/site-packages/pytorch_lightning/trainer/call.py:54: Detected KeyboardInterrupt, attempting graceful shutdown...\n"
     ]
    },
    {
     "data": {
      "text/plain": [
       "TFTModel(hidden_size=32, lstm_layers=1, num_attention_heads=4, full_attention=False, feed_forward=GatedResidualNetwork, dropout=0.1, hidden_continuous_size=8, categorical_embedding_sizes=None, add_relative_index=False, loss_fn=None, likelihood=None, norm_type=LayerNorm, use_static_covariates=True, input_chunk_length=144, output_chunk_length=48, batch_size=32, n_epochs=100, add_encoders={'cyclic': {'future': ['month']}, 'datetime_attribute': {'future': ['hour', 'dayofweek']}}, optimizer_kwargs={'lr': 0.001}, random_state=42)"
      ]
     },
     "execution_count": 43,
     "metadata": {},
     "output_type": "execute_result"
    }
   ],
   "source": [
    "# fit the model with past covariates\n",
    "my_model_ice.fit(\n",
    "    train_load_transformed, \n",
    "    past_covariates=covariates_temp_transformed, \n",
    "    verbose=True\n",
    ")"
   ]
  },
  {
   "cell_type": "code",
   "execution_count": null,
   "id": "829bccc5-860c-4b9c-81b1-a32626a3d5ae",
   "metadata": {},
   "outputs": [],
   "source": []
  },
  {
   "cell_type": "code",
   "execution_count": null,
   "id": "72f07212-908b-41f5-b2ae-f026cf41c4e1",
   "metadata": {},
   "outputs": [],
   "source": [
    "# validation\n"
   ]
  }
 ],
 "metadata": {
  "kernelspec": {
   "display_name": "gpflow",
   "language": "python",
   "name": "gpflow"
  },
  "language_info": {
   "codemirror_mode": {
    "name": "ipython",
    "version": 3
   },
   "file_extension": ".py",
   "mimetype": "text/x-python",
   "name": "python",
   "nbconvert_exporter": "python",
   "pygments_lexer": "ipython3",
   "version": "3.10.13"
  }
 },
 "nbformat": 4,
 "nbformat_minor": 5
}
