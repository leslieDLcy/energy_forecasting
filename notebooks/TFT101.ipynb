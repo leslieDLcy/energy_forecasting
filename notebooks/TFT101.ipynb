{
 "cells": [
  {
   "cell_type": "code",
   "execution_count": 1,
   "id": "9d7493ae-6e93-4058-a492-627a0faba459",
   "metadata": {},
   "outputs": [],
   "source": [
    "%load_ext autoreload\n",
    "%autoreload 2\n",
    "%matplotlib inline"
   ]
  },
  {
   "cell_type": "code",
   "execution_count": 2,
   "id": "c7e9731b-e094-4b2e-95e2-4d172a158d5d",
   "metadata": {},
   "outputs": [],
   "source": [
    "import numpy as np\n",
    "import pandas as pd\n",
    "from tqdm import tqdm_notebook as tqdm\n",
    "\n",
    "import matplotlib.pyplot as plt\n",
    "\n",
    "from darts import TimeSeries, concatenate\n",
    "from darts.dataprocessing.transformers import Scaler\n",
    "from darts.models import TFTModel\n",
    "from darts.metrics import mape\n",
    "from darts.utils.statistics import check_seasonality, plot_acf\n",
    "from darts.datasets import AirPassengersDataset, IceCreamHeaterDataset\n",
    "from darts.utils.timeseries_generation import datetime_attribute_timeseries\n",
    "from darts.utils.likelihood_models import QuantileRegression\n",
    "\n",
    "# import warnings\n",
    "\n",
    "# warnings.filterwarnings(\"ignore\")\n",
    "# import logging\n",
    "\n",
    "# logging.disable(logging.CRITICAL)"
   ]
  },
  {
   "cell_type": "code",
   "execution_count": 3,
   "id": "fd02a795-9cdc-4ae1-863d-9c4270ee04ea",
   "metadata": {},
   "outputs": [],
   "source": [
    "# before starting, we define some constants\n",
    "num_samples = 200\n",
    "\n",
    "figsize = (9, 6)\n",
    "lowest_q, low_q, high_q, highest_q = 0.01, 0.1, 0.9, 0.99\n",
    "label_q_outer = f\"{int(lowest_q * 100)}-{int(highest_q * 100)}th percentiles\"\n",
    "label_q_inner = f\"{int(low_q * 100)}-{int(high_q * 100)}th percentiles\""
   ]
  },
  {
   "cell_type": "markdown",
   "id": "0641f58b-a5b5-4775-a8d0-1692cb75b54d",
   "metadata": {
    "jp-MarkdownHeadingCollapsed": true,
    "tags": []
   },
   "source": [
    "## example of `passenger` dataset"
   ]
  },
  {
   "cell_type": "code",
   "execution_count": null,
   "id": "006db799-f6a7-471e-929b-69fa7c271dbc",
   "metadata": {},
   "outputs": [],
   "source": [
    "# Read data\n",
    "series = AirPassengersDataset().load()\n",
    "\n",
    "# we convert monthly number of passengers to average daily number of passengers per month\n",
    "series = series / TimeSeries.from_series(series.time_index.days_in_month)\n",
    "series = series.astype(np.float32)"
   ]
  },
  {
   "cell_type": "code",
   "execution_count": null,
   "id": "c4fea7dd-6331-433b-8ae7-1881b52d0277",
   "metadata": {},
   "outputs": [],
   "source": [
    "series.plot()"
   ]
  },
  {
   "cell_type": "code",
   "execution_count": null,
   "id": "22a02380-9d00-458b-aa92-8f409312e32f",
   "metadata": {},
   "outputs": [],
   "source": [
    "# Create training and validation sets:\n",
    "training_cutoff = pd.Timestamp(\"19571201\")\n",
    "train, val = series.split_after(training_cutoff)"
   ]
  },
  {
   "cell_type": "code",
   "execution_count": null,
   "id": "cb15cd02-0683-4d89-bdd1-01c03d7e68bf",
   "metadata": {},
   "outputs": [],
   "source": [
    "# Normalize the time series (note: we avoid fitting the transformer on the validation set)\n",
    "transformer = Scaler()\n",
    "train_transformed = transformer.fit_transform(train)\n",
    "val_transformed = transformer.transform(val)\n"
   ]
  },
  {
   "cell_type": "code",
   "execution_count": null,
   "id": "53fe2f2b-f54f-4111-ac48-18db89c59131",
   "metadata": {},
   "outputs": [],
   "source": [
    "series_transformed = transformer.transform(series)"
   ]
  },
  {
   "cell_type": "code",
   "execution_count": null,
   "id": "7409d237-a7c9-4bce-ba45-be07f47c920c",
   "metadata": {},
   "outputs": [],
   "source": [
    "# create year, month and integer index covariate series\n",
    "\n",
    "covariates = datetime_attribute_timeseries(series, attribute=\"year\", one_hot=False)\n",
    "covariates = covariates.stack(\n",
    "    datetime_attribute_timeseries(series, attribute=\"month\", one_hot=False)\n",
    ")\n",
    "\n",
    "covariates = covariates.stack(\n",
    "    TimeSeries.from_times_and_values(\n",
    "        times=series.time_index,\n",
    "        values=np.arange(len(series)),\n",
    "        columns=[\"linear_increase\"],\n",
    "    )\n",
    ")\n",
    "covariates = covariates.astype(np.float32)"
   ]
  },
  {
   "cell_type": "code",
   "execution_count": null,
   "id": "9a24345f-91d2-4f16-9b90-795c1c6ef71d",
   "metadata": {},
   "outputs": [],
   "source": [
    "covariates[\"month\"].plot()"
   ]
  },
  {
   "cell_type": "code",
   "execution_count": null,
   "id": "6394eb4b-3e4a-4c6f-a39e-472bf65424da",
   "metadata": {},
   "outputs": [],
   "source": [
    "covariates[\"year\"].plot()"
   ]
  },
  {
   "cell_type": "code",
   "execution_count": null,
   "id": "51d4b4eb-63dc-4837-a957-e6f5b018a359",
   "metadata": {},
   "outputs": [],
   "source": []
  },
  {
   "cell_type": "code",
   "execution_count": null,
   "id": "be4bdfcc-97af-4345-83ee-f9456980854e",
   "metadata": {},
   "outputs": [],
   "source": []
  },
  {
   "cell_type": "code",
   "execution_count": null,
   "id": "92312fdb-6a2c-418a-b04f-c0b0930d402c",
   "metadata": {},
   "outputs": [],
   "source": [
    "covariates.columns"
   ]
  },
  {
   "cell_type": "code",
   "execution_count": null,
   "id": "255dc975-fac7-488b-8d25-5eb6763bf7bb",
   "metadata": {},
   "outputs": [],
   "source": [
    "covariate_values = covariates.values()"
   ]
  },
  {
   "cell_type": "code",
   "execution_count": null,
   "id": "4ca7b8b8-fe62-46b3-b5cb-a336fc4b8319",
   "metadata": {},
   "outputs": [],
   "source": [
    "type(covariate_values)"
   ]
  },
  {
   "cell_type": "code",
   "execution_count": null,
   "id": "12c03e7b-d0c2-462a-81ab-1c5a814470a0",
   "metadata": {},
   "outputs": [],
   "source": [
    "covariate_values[:20]"
   ]
  },
  {
   "cell_type": "code",
   "execution_count": null,
   "id": "a3339f02-a805-4fc2-9dea-5df47326eb20",
   "metadata": {},
   "outputs": [],
   "source": [
    "covariates.width"
   ]
  },
  {
   "cell_type": "code",
   "execution_count": null,
   "id": "ad88c6f7-1b33-4f4d-996c-ae5a3363f1d6",
   "metadata": {},
   "outputs": [],
   "source": [
    "covariates.time_index"
   ]
  },
  {
   "cell_type": "code",
   "execution_count": null,
   "id": "00fb0267-978a-485d-a089-cb2703df4af2",
   "metadata": {},
   "outputs": [],
   "source": []
  },
  {
   "cell_type": "code",
   "execution_count": null,
   "id": "8598a327-17e8-47fd-89f2-83351123ade3",
   "metadata": {},
   "outputs": [],
   "source": [
    "# transform covariates (note: we fit the transformer on train split and can then transform the entire covariates series)\n",
    "scaler_covs = Scaler()\n",
    "cov_train, cov_val = covariates.split_after(training_cutoff)\n",
    "scaler_covs.fit(cov_train)\n",
    "covariates_transformed = scaler_covs.transform(covariates)"
   ]
  },
  {
   "cell_type": "code",
   "execution_count": null,
   "id": "a57ea533-b89e-429e-bb8c-81b05e50e53d",
   "metadata": {},
   "outputs": [],
   "source": [
    "# define quantiles\n",
    "\n",
    "quantiles = [\n",
    "    0.01,\n",
    "    0.05,\n",
    "    0.1,\n",
    "    0.15,\n",
    "    0.2,\n",
    "    0.25,\n",
    "    0.3,\n",
    "    0.4,\n",
    "    0.5,\n",
    "    0.6,\n",
    "    0.7,\n",
    "    0.75,\n",
    "    0.8,\n",
    "    0.85,\n",
    "    0.9,\n",
    "    0.95,\n",
    "    0.99,\n",
    "]"
   ]
  },
  {
   "cell_type": "code",
   "execution_count": null,
   "id": "45826dfd-3ab8-4e96-adb6-2f76269e96bc",
   "metadata": {},
   "outputs": [],
   "source": [
    "# window setting\n",
    "\n",
    "input_chunk_length = 24\n",
    "forecast_horizon = 12"
   ]
  },
  {
   "cell_type": "code",
   "execution_count": null,
   "id": "cdff76e8-b62b-46da-ae4c-2430c72858e9",
   "metadata": {},
   "outputs": [],
   "source": [
    "my_model = TFTModel(\n",
    "    input_chunk_length=input_chunk_length,\n",
    "    output_chunk_length=forecast_horizon,\n",
    "    hidden_size=64,\n",
    "    lstm_layers=1,\n",
    "    num_attention_heads=4,\n",
    "    dropout=0.1,\n",
    "    batch_size=16,\n",
    "    n_epochs=300,\n",
    "    add_relative_index=False,\n",
    "    add_encoders=None,\n",
    "    likelihood=QuantileRegression(\n",
    "        quantiles=quantiles\n",
    "    ),  # QuantileRegression is set per default\n",
    "    # loss_fn=MSELoss(),\n",
    "    random_state=42,\n",
    ")"
   ]
  },
  {
   "cell_type": "code",
   "execution_count": null,
   "id": "84b191d0-b6c2-48f1-b08e-30f4301f4c1d",
   "metadata": {},
   "outputs": [],
   "source": [
    "my_model.fit(\n",
    "    train_transformed, \n",
    "    future_covariates=covariates_transformed, \n",
    "    verbose=True)"
   ]
  },
  {
   "cell_type": "code",
   "execution_count": null,
   "id": "94c3d8cc-a205-4083-bc54-7426a38544a3",
   "metadata": {},
   "outputs": [],
   "source": [
    "series_transformed.end_time()"
   ]
  },
  {
   "cell_type": "code",
   "execution_count": null,
   "id": "5d48fe80-58e1-4347-beb3-0895732075a3",
   "metadata": {},
   "outputs": [],
   "source": [
    "def eval_model(model, n, actual_series, val_series):\n",
    "    pred_series = model.predict(n=n, num_samples=num_samples)\n",
    "\n",
    "    # plot actual series\n",
    "    plt.figure(figsize=figsize)\n",
    "    actual_series[: pred_series.end_time()].plot(label=\"actual\")\n",
    "\n",
    "    # plot prediction with quantile ranges\n",
    "    pred_series.plot(\n",
    "        low_quantile=lowest_q, high_quantile=highest_q, label=label_q_outer\n",
    "    )\n",
    "    pred_series.plot(low_quantile=low_q, high_quantile=high_q, label=label_q_inner)\n",
    "\n",
    "    plt.title(\"MAPE: {:.2f}%\".format(mape(val_series, pred_series)))\n",
    "    plt.legend()"
   ]
  },
  {
   "cell_type": "code",
   "execution_count": null,
   "id": "55e045ec-a944-4f95-9fb0-32edde0f4d3a",
   "metadata": {},
   "outputs": [],
   "source": [
    "eval_model(my_model, 24, series_transformed, val_transformed)"
   ]
  },
  {
   "cell_type": "markdown",
   "id": "460ad308-4309-4609-90da-c19514f934ee",
   "metadata": {},
   "source": [
    "## example of `Monthly ice cream sales` dataset"
   ]
  },
  {
   "cell_type": "code",
   "execution_count": 4,
   "id": "907066b5-685d-4493-a83d-c4761b0ee9ee",
   "metadata": {},
   "outputs": [],
   "source": [
    "series_ice_heater = IceCreamHeaterDataset().load()"
   ]
  },
  {
   "cell_type": "code",
   "execution_count": 5,
   "id": "700009ac-ebbd-4861-8220-72e93b3cc78f",
   "metadata": {},
   "outputs": [
    {
     "data": {
      "text/plain": [
       "Index(['heater', 'ice cream'], dtype='object', name='component')"
      ]
     },
     "execution_count": 5,
     "metadata": {},
     "output_type": "execute_result"
    }
   ],
   "source": [
    "series_ice_heater.columns"
   ]
  },
  {
   "cell_type": "code",
   "execution_count": 6,
   "id": "f33b4260-949f-4934-9751-349db4ff072a",
   "metadata": {},
   "outputs": [
    {
     "data": {
      "text/plain": [
       "2"
      ]
     },
     "execution_count": 6,
     "metadata": {},
     "output_type": "execute_result"
    }
   ],
   "source": [
    "series_ice_heater.width"
   ]
  },
  {
   "cell_type": "code",
   "execution_count": 7,
   "id": "9bb9117c-6bec-42bf-90bb-a28989ba1c5c",
   "metadata": {},
   "outputs": [
    {
     "data": {
      "text/plain": [
       "<Axes: xlabel='Month'>"
      ]
     },
     "execution_count": 7,
     "metadata": {},
     "output_type": "execute_result"
    },
    {
     "data": {
      "image/png": "[encoded data removed]",
      "text/plain": [
       "<Figure size 900x600 with 1 Axes>"
      ]
     },
     "metadata": {},
     "output_type": "display_data"
    }
   ],
   "source": [
    "plt.figure(figsize=figsize)\n",
    "series_ice_heater.plot()"
   ]
  },
  {
   "cell_type": "code",
   "execution_count": 8,
   "id": "84673cfc-8c5f-440a-9040-104bf03cd162",
   "metadata": {},
   "outputs": [
    {
     "data": {
      "text/plain": [
       "DatetimeIndex(['2004-01-01', '2004-02-01', '2004-03-01', '2004-04-01',\n",
       "               '2004-05-01', '2004-06-01', '2004-07-01', '2004-08-01',\n",
       "               '2004-09-01', '2004-10-01',\n",
       "               ...\n",
       "               '2019-09-01', '2019-10-01', '2019-11-01', '2019-12-01',\n",
       "               '2020-01-01', '2020-02-01', '2020-03-01', '2020-04-01',\n",
       "               '2020-05-01', '2020-06-01'],\n",
       "              dtype='datetime64[ns]', name='Month', length=198, freq='MS')"
      ]
     },
     "execution_count": 8,
     "metadata": {},
     "output_type": "execute_result"
    }
   ],
   "source": [
    "series_ice_heater.time_index"
   ]
  },
  {
   "cell_type": "code",
   "execution_count": 11,
   "id": "b5698a86-8db9-4746-99bd-c322ab5fc5de",
   "metadata": {},
   "outputs": [
    {
     "data": {
      "text/plain": [
       "198"
      ]
     },
     "execution_count": 11,
     "metadata": {},
     "output_type": "execute_result"
    }
   ],
   "source": [
    "len(series_ice_heater)"
   ]
  },
  {
   "cell_type": "markdown",
   "id": "4ab63f77-ac36-4354-b717-8e59743f3161",
   "metadata": {
    "jp-MarkdownHeadingCollapsed": true,
    "tags": []
   },
   "source": [
    "### preprocessing"
   ]
  },
  {
   "cell_type": "code",
   "execution_count": 12,
   "id": "4454d9cc-69fe-48ad-b4ee-1010310c1c1e",
   "metadata": {},
   "outputs": [],
   "source": [
    "# convert monthly sales to average daily sales per month\n",
    "converted_series = []\n",
    "for col in [\"ice cream\", \"heater\"]:\n",
    "    converted_series.append(\n",
    "        series_ice_heater[col]\n",
    "        / TimeSeries.from_series(series_ice_heater.time_index.days_in_month)\n",
    "    )\n",
    "converted_series = concatenate(converted_series, axis=1)"
   ]
  },
  {
   "cell_type": "code",
   "execution_count": 15,
   "id": "03c8009a-83be-4560-9d25-9212b72d8be3",
   "metadata": {},
   "outputs": [
    {
     "data": {
      "text/plain": [
       "198"
      ]
     },
     "execution_count": 15,
     "metadata": {},
     "output_type": "execute_result"
    }
   ],
   "source": [
    "# print(converted_series)\n",
    "len(converted_series)"
   ]
  },
  {
   "cell_type": "code",
   "execution_count": 16,
   "id": "2a55c6bc-2cf8-4ba7-a022-ce8a949f0567",
   "metadata": {},
   "outputs": [],
   "source": [
    "# manually select a portion of data for simplicity\n",
    "converted_series = converted_series[pd.Timestamp(\"20100101\") :]"
   ]
  },
  {
   "cell_type": "code",
   "execution_count": 17,
   "id": "25f00b0e-ce77-4f75-a1da-ef40373abd54",
   "metadata": {},
   "outputs": [
    {
     "data": {
      "text/plain": [
       "126"
      ]
     },
     "execution_count": 17,
     "metadata": {},
     "output_type": "execute_result"
    }
   ],
   "source": [
    "len(converted_series)"
   ]
  },
  {
   "cell_type": "code",
   "execution_count": 18,
   "id": "488a731f-c7ac-4194-989f-6ae880167dcc",
   "metadata": {},
   "outputs": [],
   "source": [
    "# split the data\n",
    "\n",
    "# define train/validation cutoff time\n",
    "forecast_horizon_ice = 12\n",
    "training_cutoff_ice = converted_series.time_index[-(2 * forecast_horizon_ice)]"
   ]
  },
  {
   "cell_type": "code",
   "execution_count": 19,
   "id": "e3a51457-18f0-4219-bbb9-21f4be4ede31",
   "metadata": {},
   "outputs": [
    {
     "data": {
      "text/plain": [
       "Timestamp('2018-07-01 00:00:00')"
      ]
     },
     "execution_count": 19,
     "metadata": {},
     "output_type": "execute_result"
    }
   ],
   "source": [
    "training_cutoff_ice"
   ]
  },
  {
   "cell_type": "code",
   "execution_count": 20,
   "id": "09ae5d24-9a3d-40b9-94df-f9f3e6810218",
   "metadata": {},
   "outputs": [],
   "source": [
    "# scale the data\n",
    "\n",
    "# use ice cream sales as target, create train and validation sets and transform data\n",
    "series_ice = converted_series[\"ice cream\"]\n",
    "train_ice, val_ice = series_ice.split_before(training_cutoff_ice)\n",
    "transformer_ice = Scaler()\n",
    "train_ice_transformed = transformer_ice.fit_transform(train_ice)\n",
    "val_ice_transformed = transformer_ice.transform(val_ice)\n",
    "series_ice_transformed = transformer_ice.transform(series_ice)\n",
    "\n",
    "# use heater sales as past covariates and transform data\n",
    "covariates_heat = converted_series[\"heater\"]\n",
    "cov_heat_train, cov_heat_val = covariates_heat.split_before(training_cutoff_ice)\n",
    "transformer_heat = Scaler()\n",
    "transformer_heat.fit(cov_heat_train)\n",
    "covariates_heat_transformed = transformer_heat.transform(covariates_heat)"
   ]
  },
  {
   "cell_type": "markdown",
   "id": "3fbc1df4-e04c-4106-83cc-f0d5eb57089c",
   "metadata": {
    "jp-MarkdownHeadingCollapsed": true,
    "tags": []
   },
   "source": [
    "### modelling"
   ]
  },
  {
   "cell_type": "code",
   "execution_count": 21,
   "id": "247569f5-b228-45fb-87f2-6780d4babd1c",
   "metadata": {},
   "outputs": [],
   "source": [
    "# use the last 3 years as past input data\n",
    "input_chunk_length_ice = 36"
   ]
  },
  {
   "cell_type": "code",
   "execution_count": 22,
   "id": "7b277f66-36ff-4352-b9eb-c637c399ed77",
   "metadata": {},
   "outputs": [],
   "source": [
    "# use `add_encoders` as we don't have future covariates\n",
    "my_model_ice = TFTModel(\n",
    "    input_chunk_length=input_chunk_length_ice,\n",
    "    output_chunk_length=forecast_horizon_ice,\n",
    "    hidden_size=32,\n",
    "    lstm_layers=1,\n",
    "    batch_size=16,\n",
    "    n_epochs=300,\n",
    "    dropout=0.1,\n",
    "    add_encoders={\"cyclic\": {\"future\": [\"month\"]}},\n",
    "    add_relative_index=False,\n",
    "    optimizer_kwargs={\"lr\": 1e-3},\n",
    "    random_state=42,\n",
    ")"
   ]
  },
  {
   "cell_type": "code",
   "execution_count": 23,
   "id": "c68dc455-60d9-4bbd-a4fe-63ad8ab923e7",
   "metadata": {},
   "outputs": [
    {
     "name": "stderr",
     "output_type": "stream",
     "text": [
      "GPU available: False, used: False\n",
      "TPU available: False, using: 0 TPU cores\n",
      "IPU available: False, using: 0 IPUs\n",
      "HPU available: False, using: 0 HPUs\n",
      "\n",
      "   | Name                              | Type                             | Params\n",
      "----------------------------------------------------------------------------------------\n",
      "0  | train_metrics                     | MetricCollection                 | 0     \n",
      "1  | val_metrics                       | MetricCollection                 | 0     \n",
      "2  | input_embeddings                  | _MultiEmbedding                  | 0     \n",
      "3  | static_covariates_vsn             | _VariableSelectionNetwork        | 0     \n",
      "4  | encoder_vsn                       | _VariableSelectionNetwork        | 3.9 K \n",
      "5  | decoder_vsn                       | _VariableSelectionNetwork        | 1.9 K \n",
      "6  | static_context_grn                | _GatedResidualNetwork            | 4.3 K \n",
      "7  | static_context_hidden_encoder_grn | _GatedResidualNetwork            | 4.3 K \n",
      "8  | static_context_cell_encoder_grn   | _GatedResidualNetwork            | 4.3 K \n",
      "9  | static_context_enrichment         | _GatedResidualNetwork            | 4.3 K \n",
      "10 | lstm_encoder                      | LSTM                             | 8.4 K \n",
      "11 | lstm_decoder                      | LSTM                             | 8.4 K \n",
      "12 | post_lstm_gan                     | _GateAddNorm                     | 2.2 K \n",
      "13 | static_enrichment_grn             | _GatedResidualNetwork            | 5.3 K \n",
      "14 | multihead_attn                    | _InterpretableMultiHeadAttention | 2.6 K \n",
      "15 | post_attn_gan                     | _GateAddNorm                     | 2.2 K \n",
      "16 | feed_forward_block                | _GatedResidualNetwork            | 4.3 K \n",
      "17 | pre_output_gan                    | _GateAddNorm                     | 2.2 K \n",
      "18 | output_layer                      | Linear                           | 561   \n",
      "----------------------------------------------------------------------------------------\n",
      "59.2 K    Trainable params\n",
      "0         Non-trainable params\n",
      "59.2 K    Total params\n",
      "0.237     Total estimated model params size (MB)\n"
     ]
    },
    {
     "data": {
      "application/vnd.jupyter.widget-view+json": {
       "model_id": "f7a77bad6bd348b4a4a46127202dbebc",
       "version_major": 2,
       "version_minor": 0
      },
      "text/plain": [
       "Training: |                                                                                                   …"
      ]
     },
     "metadata": {},
     "output_type": "display_data"
    },
    {
     "name": "stderr",
     "output_type": "stream",
     "text": [
      "`Trainer.fit` stopped: `max_epochs=300` reached.\n"
     ]
    },
    {
     "data": {
      "text/plain": [
       "TFTModel(hidden_size=32, lstm_layers=1, num_attention_heads=4, full_attention=False, feed_forward=GatedResidualNetwork, dropout=0.1, hidden_continuous_size=8, categorical_embedding_sizes=None, add_relative_index=False, loss_fn=None, likelihood=None, norm_type=LayerNorm, use_static_covariates=True, input_chunk_length=36, output_chunk_length=12, batch_size=16, n_epochs=300, add_encoders={'cyclic': {'future': ['month']}}, optimizer_kwargs={'lr': 0.001}, random_state=42)"
      ]
     },
     "execution_count": 23,
     "metadata": {},
     "output_type": "execute_result"
    }
   ],
   "source": [
    "# fit the model with past covariates\n",
    "my_model_ice.fit(\n",
    "    train_ice_transformed, past_covariates=covariates_heat_transformed, verbose=True\n",
    ")"
   ]
  },
  {
   "cell_type": "code",
   "execution_count": null,
   "id": "693c8f47-9dbd-4982-ba3e-12c4c0e760c9",
   "metadata": {},
   "outputs": [],
   "source": []
  }
 ],
 "metadata": {
  "kernelspec": {
   "display_name": "gpflow",
   "language": "python",
   "name": "gpflow"
  },
  "language_info": {
   "codemirror_mode": {
    "name": "ipython",
    "version": 3
   },
   "file_extension": ".py",
   "mimetype": "text/x-python",
   "name": "python",
   "nbconvert_exporter": "python",
   "pygments_lexer": "ipython3",
   "version": "3.10.13"
  },
  "toc-autonumbering": true
 },
 "nbformat": 4,
 "nbformat_minor": 5
}
