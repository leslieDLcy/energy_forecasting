{
 "cells": [
  {
   "cell_type": "markdown",
   "id": "d5f003fd-cc6b-458d-94af-3e9d72f825e7",
   "metadata": {},
   "source": [
    "# introduction\n",
    "\n",
    "This file tests the **wind power forecasting** for the [Global Energy Forecasting Competition 2012 - wind power Forecasting](https://www.kaggle.com/competitions/GEF2012-wind-forecasting/data).\n",
    "\n",
    "`Goal`: \n",
    "\n",
    "- mimicking the operation 48-hour ahead prediction of hourly power generation at 7 wind farms\n",
    "\n",
    "`Note`:\n",
    "\n",
    "- 2009/7/1 and 2010/12/31 is a model identification and training period\n",
    "- the remainder of the dataset, that is, from 2011/1/1 to 2012/6/28, is there for the evaluation\n",
    "- The forecasting accuracy will be evaluated with a Root Mean Square Error (**RMSE**) criterion\n",
    "\n",
    "`Data`:\n",
    "\n"
   ]
  },
  {
   "cell_type": "code",
   "execution_count": 1,
   "id": "fd0a43d8-7e4c-4fa2-a5ea-f60b058df998",
   "metadata": {},
   "outputs": [],
   "source": [
    "import pandas as pd"
   ]
  },
  {
   "cell_type": "code",
   "execution_count": 2,
   "id": "64adf8c4-f9dc-414d-a6ce-c08be7e713e4",
   "metadata": {},
   "outputs": [],
   "source": [
    "data = pd.read_csv('../data/raw/GEF2012-wind-forecasting/train.csv')"
   ]
  },
  {
   "cell_type": "code",
   "execution_count": 4,
   "id": "627b94cc-4f41-414f-a6e5-1aa9ccfbc09b",
   "metadata": {},
   "outputs": [],
   "source": [
    "data['Datetime'] = pd.to_datetime(data['date'], format='%Y%m%d%H')"
   ]
  },
  {
   "cell_type": "code",
   "execution_count": 5,
   "id": "18c27500-4334-41dc-ba16-7c1c772004c4",
   "metadata": {},
   "outputs": [],
   "source": [
    "data = data.set_index('Datetime', drop=True)"
   ]
  },
  {
   "cell_type": "code",
   "execution_count": 6,
   "id": "008d987e-645f-4bc4-86ea-99b88bd97ec7",
   "metadata": {},
   "outputs": [
    {
     "data": {
      "text/html": [
       "<div>\n",
       "<style scoped>\n",
       "    .dataframe tbody tr th:only-of-type {\n",
       "        vertical-align: middle;\n",
       "    }\n",
       "\n",
       "    .dataframe tbody tr th {\n",
       "        vertical-align: top;\n",
       "    }\n",
       "\n",
       "    .dataframe thead th {\n",
       "        text-align: right;\n",
       "    }\n",
       "</style>\n",
       "<table border=\"1\" class=\"dataframe\">\n",
       "  <thead>\n",
       "    <tr style=\"text-align: right;\">\n",
       "      <th></th>\n",
       "      <th>date</th>\n",
       "      <th>wp1</th>\n",
       "      <th>wp2</th>\n",
       "      <th>wp3</th>\n",
       "      <th>wp4</th>\n",
       "      <th>wp5</th>\n",
       "      <th>wp6</th>\n",
       "      <th>wp7</th>\n",
       "    </tr>\n",
       "    <tr>\n",
       "      <th>Datetime</th>\n",
       "      <th></th>\n",
       "      <th></th>\n",
       "      <th></th>\n",
       "      <th></th>\n",
       "      <th></th>\n",
       "      <th></th>\n",
       "      <th></th>\n",
       "      <th></th>\n",
       "    </tr>\n",
       "  </thead>\n",
       "  <tbody>\n",
       "    <tr>\n",
       "      <th>2009-07-01 00:00:00</th>\n",
       "      <td>2009070100</td>\n",
       "      <td>0.045</td>\n",
       "      <td>0.233</td>\n",
       "      <td>0.494</td>\n",
       "      <td>0.105</td>\n",
       "      <td>0.056</td>\n",
       "      <td>0.118</td>\n",
       "      <td>0.051</td>\n",
       "    </tr>\n",
       "    <tr>\n",
       "      <th>2009-07-01 01:00:00</th>\n",
       "      <td>2009070101</td>\n",
       "      <td>0.085</td>\n",
       "      <td>0.249</td>\n",
       "      <td>0.257</td>\n",
       "      <td>0.105</td>\n",
       "      <td>0.066</td>\n",
       "      <td>0.066</td>\n",
       "      <td>0.051</td>\n",
       "    </tr>\n",
       "    <tr>\n",
       "      <th>2009-07-01 02:00:00</th>\n",
       "      <td>2009070102</td>\n",
       "      <td>0.020</td>\n",
       "      <td>0.175</td>\n",
       "      <td>0.178</td>\n",
       "      <td>0.033</td>\n",
       "      <td>0.015</td>\n",
       "      <td>0.026</td>\n",
       "      <td>0.000</td>\n",
       "    </tr>\n",
       "    <tr>\n",
       "      <th>2009-07-01 03:00:00</th>\n",
       "      <td>2009070103</td>\n",
       "      <td>0.060</td>\n",
       "      <td>0.085</td>\n",
       "      <td>0.109</td>\n",
       "      <td>0.022</td>\n",
       "      <td>0.010</td>\n",
       "      <td>0.013</td>\n",
       "      <td>0.000</td>\n",
       "    </tr>\n",
       "    <tr>\n",
       "      <th>2009-07-01 04:00:00</th>\n",
       "      <td>2009070104</td>\n",
       "      <td>0.045</td>\n",
       "      <td>0.032</td>\n",
       "      <td>0.079</td>\n",
       "      <td>0.039</td>\n",
       "      <td>0.010</td>\n",
       "      <td>0.000</td>\n",
       "      <td>0.000</td>\n",
       "    </tr>\n",
       "  </tbody>\n",
       "</table>\n",
       "</div>"
      ],
      "text/plain": [
       "                           date    wp1    wp2    wp3    wp4    wp5    wp6  \\\n",
       "Datetime                                                                    \n",
       "2009-07-01 00:00:00  2009070100  0.045  0.233  0.494  0.105  0.056  0.118   \n",
       "2009-07-01 01:00:00  2009070101  0.085  0.249  0.257  0.105  0.066  0.066   \n",
       "2009-07-01 02:00:00  2009070102  0.020  0.175  0.178  0.033  0.015  0.026   \n",
       "2009-07-01 03:00:00  2009070103  0.060  0.085  0.109  0.022  0.010  0.013   \n",
       "2009-07-01 04:00:00  2009070104  0.045  0.032  0.079  0.039  0.010  0.000   \n",
       "\n",
       "                       wp7  \n",
       "Datetime                    \n",
       "2009-07-01 00:00:00  0.051  \n",
       "2009-07-01 01:00:00  0.051  \n",
       "2009-07-01 02:00:00  0.000  \n",
       "2009-07-01 03:00:00  0.000  \n",
       "2009-07-01 04:00:00  0.000  "
      ]
     },
     "execution_count": 6,
     "metadata": {},
     "output_type": "execute_result"
    }
   ],
   "source": [
    "data.head()"
   ]
  },
  {
   "cell_type": "code",
   "execution_count": 7,
   "id": "5600fc86-8a61-485f-b5a9-04cbaced60f2",
   "metadata": {},
   "outputs": [
    {
     "data": {
      "text/plain": [
       "(18757, 8)"
      ]
     },
     "execution_count": 7,
     "metadata": {},
     "output_type": "execute_result"
    }
   ],
   "source": [
    "data.shape"
   ]
  },
  {
   "cell_type": "code",
   "execution_count": 8,
   "id": "c3104091-45ba-41d0-b1e1-d764afd98ed7",
   "metadata": {},
   "outputs": [
    {
     "data": {
      "text/plain": [
       "DatetimeIndex(['2009-07-01 00:00:00', '2009-07-01 01:00:00',\n",
       "               '2009-07-01 02:00:00', '2009-07-01 03:00:00',\n",
       "               '2009-07-01 04:00:00', '2009-07-01 05:00:00',\n",
       "               '2009-07-01 06:00:00', '2009-07-01 07:00:00',\n",
       "               '2009-07-01 08:00:00', '2009-07-01 09:00:00',\n",
       "               ...\n",
       "               '2012-06-26 03:00:00', '2012-06-26 04:00:00',\n",
       "               '2012-06-26 05:00:00', '2012-06-26 06:00:00',\n",
       "               '2012-06-26 07:00:00', '2012-06-26 08:00:00',\n",
       "               '2012-06-26 09:00:00', '2012-06-26 10:00:00',\n",
       "               '2012-06-26 11:00:00', '2012-06-26 12:00:00'],\n",
       "              dtype='datetime64[ns]', name='Datetime', length=18757, freq=None)"
      ]
     },
     "execution_count": 8,
     "metadata": {},
     "output_type": "execute_result"
    }
   ],
   "source": [
    "data.index"
   ]
  },
  {
   "cell_type": "code",
   "execution_count": null,
   "id": "52343fd8-6308-43fe-a0c7-6736807a2e49",
   "metadata": {},
   "outputs": [],
   "source": [
    "# select a certain wind farm, e.g. `wp1`\n",
    "target = data['wp1']"
   ]
  },
  {
   "cell_type": "code",
   "execution_count": null,
   "id": "73a34ef5-a3d7-47b9-b043-0cfdd23e2f1b",
   "metadata": {},
   "outputs": [],
   "source": [
    "target.tail()"
   ]
  },
  {
   "cell_type": "code",
   "execution_count": null,
   "id": "b904cef2-abf0-40b3-b861-d43dd060073f",
   "metadata": {},
   "outputs": [],
   "source": [
    "target.shape[0]"
   ]
  },
  {
   "cell_type": "code",
   "execution_count": null,
   "id": "1c23ccd3-f672-478b-b5fe-143c45dfc9a3",
   "metadata": {},
   "outputs": [],
   "source": [
    "# create `TimeSeries` object"
   ]
  },
  {
   "cell_type": "code",
   "execution_count": 9,
   "id": "1db44ffa-a770-49db-9168-c6f94a60945b",
   "metadata": {},
   "outputs": [],
   "source": [
    "# read-in features (which are already normalised) accordingly w.r.t the wind farm\n",
    "features = pd.read_csv('../data/raw/GEF2012-wind-forecasting/windforecasts_wf1.csv')"
   ]
  },
  {
   "cell_type": "code",
   "execution_count": 12,
   "id": "71e2d0a9-65d8-4ede-b4dd-8a3e42bc92a3",
   "metadata": {},
   "outputs": [
    {
     "data": {
      "text/html": [
       "<div>\n",
       "<style scoped>\n",
       "    .dataframe tbody tr th:only-of-type {\n",
       "        vertical-align: middle;\n",
       "    }\n",
       "\n",
       "    .dataframe tbody tr th {\n",
       "        vertical-align: top;\n",
       "    }\n",
       "\n",
       "    .dataframe thead th {\n",
       "        text-align: right;\n",
       "    }\n",
       "</style>\n",
       "<table border=\"1\" class=\"dataframe\">\n",
       "  <thead>\n",
       "    <tr style=\"text-align: right;\">\n",
       "      <th></th>\n",
       "      <th>date</th>\n",
       "      <th>hors</th>\n",
       "      <th>u</th>\n",
       "      <th>v</th>\n",
       "      <th>ws</th>\n",
       "      <th>wd</th>\n",
       "    </tr>\n",
       "  </thead>\n",
       "  <tbody>\n",
       "    <tr>\n",
       "      <th>104827</th>\n",
       "      <td>2012062612</td>\n",
       "      <td>44</td>\n",
       "      <td>2.44</td>\n",
       "      <td>1.08</td>\n",
       "      <td>2.67</td>\n",
       "      <td>66.14</td>\n",
       "    </tr>\n",
       "    <tr>\n",
       "      <th>104828</th>\n",
       "      <td>2012062612</td>\n",
       "      <td>45</td>\n",
       "      <td>2.11</td>\n",
       "      <td>1.46</td>\n",
       "      <td>2.57</td>\n",
       "      <td>55.39</td>\n",
       "    </tr>\n",
       "    <tr>\n",
       "      <th>104829</th>\n",
       "      <td>2012062612</td>\n",
       "      <td>46</td>\n",
       "      <td>1.63</td>\n",
       "      <td>1.61</td>\n",
       "      <td>2.29</td>\n",
       "      <td>45.42</td>\n",
       "    </tr>\n",
       "    <tr>\n",
       "      <th>104830</th>\n",
       "      <td>2012062612</td>\n",
       "      <td>47</td>\n",
       "      <td>1.07</td>\n",
       "      <td>1.58</td>\n",
       "      <td>1.91</td>\n",
       "      <td>34.05</td>\n",
       "    </tr>\n",
       "    <tr>\n",
       "      <th>104831</th>\n",
       "      <td>2012062612</td>\n",
       "      <td>48</td>\n",
       "      <td>0.53</td>\n",
       "      <td>1.48</td>\n",
       "      <td>1.58</td>\n",
       "      <td>19.68</td>\n",
       "    </tr>\n",
       "  </tbody>\n",
       "</table>\n",
       "</div>"
      ],
      "text/plain": [
       "              date  hors     u     v    ws     wd\n",
       "104827  2012062612    44  2.44  1.08  2.67  66.14\n",
       "104828  2012062612    45  2.11  1.46  2.57  55.39\n",
       "104829  2012062612    46  1.63  1.61  2.29  45.42\n",
       "104830  2012062612    47  1.07  1.58  1.91  34.05\n",
       "104831  2012062612    48  0.53  1.48  1.58  19.68"
      ]
     },
     "execution_count": 12,
     "metadata": {},
     "output_type": "execute_result"
    }
   ],
   "source": [
    "features.tail()"
   ]
  },
  {
   "cell_type": "code",
   "execution_count": 11,
   "id": "18804115-eb13-49cc-b781-9c10de3a444b",
   "metadata": {},
   "outputs": [
    {
     "data": {
      "text/plain": [
       "(104832, 6)"
      ]
     },
     "execution_count": 11,
     "metadata": {},
     "output_type": "execute_result"
    }
   ],
   "source": [
    "features.shape"
   ]
  },
  {
   "cell_type": "code",
   "execution_count": null,
   "id": "901251f9-44bd-42e9-9511-6ea821037fb9",
   "metadata": {},
   "outputs": [],
   "source": [
    "features.tail()"
   ]
  },
  {
   "cell_type": "code",
   "execution_count": null,
   "id": "70710ddc-287c-4f28-82b1-35f4206fd115",
   "metadata": {},
   "outputs": [],
   "source": [
    "# feature engineering a bit, create `future covariates`"
   ]
  }
 ],
 "metadata": {
  "kernelspec": {
   "display_name": "gpflow",
   "language": "python",
   "name": "gpflow"
  },
  "language_info": {
   "codemirror_mode": {
    "name": "ipython",
    "version": 3
   },
   "file_extension": ".py",
   "mimetype": "text/x-python",
   "name": "python",
   "nbconvert_exporter": "python",
   "pygments_lexer": "ipython3",
   "version": "3.10.13"
  }
 },
 "nbformat": 4,
 "nbformat_minor": 5
}
